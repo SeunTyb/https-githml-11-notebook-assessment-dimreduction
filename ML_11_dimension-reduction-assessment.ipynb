{
 "cells": [
  {
   "cell_type": "markdown",
   "metadata": {},
   "source": [
    "# Formative Assessment"
   ]
  },
  {
   "cell_type": "markdown",
   "metadata": {},
   "source": [
    "### The goal"
   ]
  },
  {
   "cell_type": "markdown",
   "metadata": {},
   "source": [
    "The goal of the assignment is to predict active power of a wind turbine using several input features. The data comes from a wind farm in France, [La Haute Borne Data (2013-2016)](https://opendata-renewables.engie.com/explore/dataset/la-haute-borne-data-2013-2016/table/?dataChart=eyJxdWVyaWVzIjpbeyJjb25maWciOnsiZGF0YXNldCI6ImxhLWhhdXRlLWJvcm5lLWRhdGEtMjAxMy0yMDE2Iiwib3B0aW9ucyI6e319LCJjaGFydHMiOlt7InR5cGUiOiJsaW5lIiwiZnVuYyI6IkFWRyIsInlBeGlzIjoiYmFfYXZnIiwic2NpZW50aWZpY0Rpc3BsYXkiOnRydWUsImNvbG9yIjoiIzY2YzJhNSJ9XSwieEF4aXMiOiJkYXRlX3RpbWUiLCJtYXhwb2ludHMiOiIiLCJ0aW1lc2NhbGUiOiJ5ZWFyIiwic29ydCI6IiJ9XX0%3D). A total of 139 features are included in the dataset, with several measures of the same feature. For instance, the active power feature is split into the following measurements: `P_min, P_max, P_avg, P_std`. \n",
    "\n",
    "The overall tasks are the following:\n",
    "\n",
    "1. Use a random forest regressor to predict power output. \n",
    "2. Perform dimension reduction using PCA.\n",
    "2. Perform cross validation to determine how well the model generalises. \n",
    "3. Determine the importance of the features.\n",
    "4. Determine the performance of the models as well.\n",
    "\n",
    "The notebook will guide you as to how to go about fulfilling these overall tasks by doing other smaller subtasks.\n",
    "\n",
    "Note that the dataset is very large, with 139 columns, so using a bit of domain knowledge we identified the following features that could be using in predicting wind turbine power output. Add to the feature subset as you build the model.\n",
    "\n"
   ]
  },
  {
   "cell_type": "markdown",
   "metadata": {},
   "source": [
    "### Load the data"
   ]
  },
  {
   "cell_type": "markdown",
   "metadata": {},
   "source": [
    "Import the necessary libraries and load the data. Once loaded, investigate the data. There are two files: `data_description.csv` lists the variables or features of the dataset. The file `wind-data.csv` contains the data (`wind-data-truncated.csv` if downloaded from the LMS, due to file size limits)."
   ]
  },
  {
   "cell_type": "code",
   "execution_count": 59,
   "metadata": {},
   "outputs": [],
   "source": [
    "import pandas as pd\n",
    "import numpy as np\n",
    "import matplotlib.pyplot as plt\n",
    "from sklearn.decomposition import PCA\n",
    "from sklearn import linear_model\n",
    "from sklearn.pipeline import Pipeline\n",
    "from sklearn.model_selection import train_test_split\n",
    "from sklearn.metrics import confusion_matrix, f1_score\n",
    "from sklearn.ensemble import RandomForestClassifier\n",
    "from sklearn.ensemble import RandomForestRegressor\n",
    "\n",
    "%matplotlib inline"
   ]
  },
  {
   "cell_type": "markdown",
   "metadata": {},
   "source": [
    "Load both the `data_description.csv` and `wind-data.csv` files."
   ]
  },
  {
   "cell_type": "code",
   "execution_count": 60,
   "metadata": {},
   "outputs": [],
   "source": [
    "# Loading wind-data-truncted.csv as data\n",
    "\n",
    "data = pd.read_csv('wind-data-truncated.csv', parse_dates=['Date_time'])"
   ]
  },
  {
   "cell_type": "code",
   "execution_count": 61,
   "metadata": {},
   "outputs": [
    {
     "data": {
      "text/html": [
       "<div>\n",
       "<style scoped>\n",
       "    .dataframe tbody tr th:only-of-type {\n",
       "        vertical-align: middle;\n",
       "    }\n",
       "\n",
       "    .dataframe tbody tr th {\n",
       "        vertical-align: top;\n",
       "    }\n",
       "\n",
       "    .dataframe thead th {\n",
       "        text-align: right;\n",
       "    }\n",
       "</style>\n",
       "<table border=\"1\" class=\"dataframe\">\n",
       "  <thead>\n",
       "    <tr style=\"text-align: right;\">\n",
       "      <th></th>\n",
       "      <th>Unnamed: 0</th>\n",
       "      <th>Wind_turbine_name</th>\n",
       "      <th>Date_time</th>\n",
       "      <th>Ba_avg</th>\n",
       "      <th>Ba_min</th>\n",
       "      <th>Ba_max</th>\n",
       "      <th>Ba_std</th>\n",
       "      <th>Rt_avg</th>\n",
       "      <th>Rt_min</th>\n",
       "      <th>Rt_max</th>\n",
       "      <th>...</th>\n",
       "      <th>Pas_max</th>\n",
       "      <th>Pas_std</th>\n",
       "      <th>Wa_c_avg</th>\n",
       "      <th>Wa_c_min</th>\n",
       "      <th>Wa_c_max</th>\n",
       "      <th>Wa_c_std</th>\n",
       "      <th>Na_c_avg</th>\n",
       "      <th>Na_c_min</th>\n",
       "      <th>Na_c_max</th>\n",
       "      <th>Na_c_std</th>\n",
       "    </tr>\n",
       "  </thead>\n",
       "  <tbody>\n",
       "    <tr>\n",
       "      <th>0</th>\n",
       "      <td>804808</td>\n",
       "      <td>R80711</td>\n",
       "      <td>2013-04-06 14:20:00</td>\n",
       "      <td>-0.940000</td>\n",
       "      <td>-0.950000</td>\n",
       "      <td>-0.940000</td>\n",
       "      <td>0.0</td>\n",
       "      <td>10.59</td>\n",
       "      <td>10.000000</td>\n",
       "      <td>11.0</td>\n",
       "      <td>...</td>\n",
       "      <td>NaN</td>\n",
       "      <td>NaN</td>\n",
       "      <td>358.870000</td>\n",
       "      <td>NaN</td>\n",
       "      <td>NaN</td>\n",
       "      <td>NaN</td>\n",
       "      <td>351.670010</td>\n",
       "      <td>NaN</td>\n",
       "      <td>NaN</td>\n",
       "      <td>NaN</td>\n",
       "    </tr>\n",
       "    <tr>\n",
       "      <th>1</th>\n",
       "      <td>732424</td>\n",
       "      <td>R80711</td>\n",
       "      <td>2015-12-22 14:30:00</td>\n",
       "      <td>-0.990000</td>\n",
       "      <td>-0.990000</td>\n",
       "      <td>-0.990000</td>\n",
       "      <td>0.0</td>\n",
       "      <td>17.00</td>\n",
       "      <td>17.000000</td>\n",
       "      <td>17.0</td>\n",
       "      <td>...</td>\n",
       "      <td>NaN</td>\n",
       "      <td>NaN</td>\n",
       "      <td>NaN</td>\n",
       "      <td>NaN</td>\n",
       "      <td>NaN</td>\n",
       "      <td>NaN</td>\n",
       "      <td>NaN</td>\n",
       "      <td>NaN</td>\n",
       "      <td>NaN</td>\n",
       "      <td>NaN</td>\n",
       "    </tr>\n",
       "    <tr>\n",
       "      <th>2</th>\n",
       "      <td>312987</td>\n",
       "      <td>R80711</td>\n",
       "      <td>2016-03-20 20:40:00</td>\n",
       "      <td>-0.990000</td>\n",
       "      <td>-0.990000</td>\n",
       "      <td>-0.990000</td>\n",
       "      <td>0.0</td>\n",
       "      <td>12.88</td>\n",
       "      <td>12.000000</td>\n",
       "      <td>13.0</td>\n",
       "      <td>...</td>\n",
       "      <td>NaN</td>\n",
       "      <td>NaN</td>\n",
       "      <td>44.849998</td>\n",
       "      <td>NaN</td>\n",
       "      <td>NaN</td>\n",
       "      <td>NaN</td>\n",
       "      <td>44.849998</td>\n",
       "      <td>NaN</td>\n",
       "      <td>NaN</td>\n",
       "      <td>NaN</td>\n",
       "    </tr>\n",
       "    <tr>\n",
       "      <th>3</th>\n",
       "      <td>68152</td>\n",
       "      <td>R80711</td>\n",
       "      <td>2016-01-09 01:00:00</td>\n",
       "      <td>45.000000</td>\n",
       "      <td>45.000000</td>\n",
       "      <td>45.000000</td>\n",
       "      <td>0.0</td>\n",
       "      <td>12.95</td>\n",
       "      <td>12.000000</td>\n",
       "      <td>13.0</td>\n",
       "      <td>...</td>\n",
       "      <td>NaN</td>\n",
       "      <td>NaN</td>\n",
       "      <td>243.020000</td>\n",
       "      <td>NaN</td>\n",
       "      <td>NaN</td>\n",
       "      <td>NaN</td>\n",
       "      <td>243.020000</td>\n",
       "      <td>NaN</td>\n",
       "      <td>NaN</td>\n",
       "      <td>NaN</td>\n",
       "    </tr>\n",
       "    <tr>\n",
       "      <th>4</th>\n",
       "      <td>231878</td>\n",
       "      <td>R80721</td>\n",
       "      <td>2014-12-14 13:20:00</td>\n",
       "      <td>44.990002</td>\n",
       "      <td>44.990002</td>\n",
       "      <td>44.990002</td>\n",
       "      <td>0.0</td>\n",
       "      <td>16.99</td>\n",
       "      <td>16.110001</td>\n",
       "      <td>17.0</td>\n",
       "      <td>...</td>\n",
       "      <td>NaN</td>\n",
       "      <td>NaN</td>\n",
       "      <td>195.060000</td>\n",
       "      <td>NaN</td>\n",
       "      <td>NaN</td>\n",
       "      <td>NaN</td>\n",
       "      <td>308.239990</td>\n",
       "      <td>NaN</td>\n",
       "      <td>NaN</td>\n",
       "      <td>NaN</td>\n",
       "    </tr>\n",
       "  </tbody>\n",
       "</table>\n",
       "<p>5 rows × 139 columns</p>\n",
       "</div>"
      ],
      "text/plain": [
       "   Unnamed: 0 Wind_turbine_name           Date_time     Ba_avg     Ba_min  \\\n",
       "0      804808            R80711 2013-04-06 14:20:00  -0.940000  -0.950000   \n",
       "1      732424            R80711 2015-12-22 14:30:00  -0.990000  -0.990000   \n",
       "2      312987            R80711 2016-03-20 20:40:00  -0.990000  -0.990000   \n",
       "3       68152            R80711 2016-01-09 01:00:00  45.000000  45.000000   \n",
       "4      231878            R80721 2014-12-14 13:20:00  44.990002  44.990002   \n",
       "\n",
       "      Ba_max  Ba_std  Rt_avg     Rt_min  Rt_max    ...     Pas_max  Pas_std  \\\n",
       "0  -0.940000     0.0   10.59  10.000000    11.0    ...         NaN      NaN   \n",
       "1  -0.990000     0.0   17.00  17.000000    17.0    ...         NaN      NaN   \n",
       "2  -0.990000     0.0   12.88  12.000000    13.0    ...         NaN      NaN   \n",
       "3  45.000000     0.0   12.95  12.000000    13.0    ...         NaN      NaN   \n",
       "4  44.990002     0.0   16.99  16.110001    17.0    ...         NaN      NaN   \n",
       "\n",
       "     Wa_c_avg  Wa_c_min  Wa_c_max  Wa_c_std    Na_c_avg  Na_c_min  Na_c_max  \\\n",
       "0  358.870000       NaN       NaN       NaN  351.670010       NaN       NaN   \n",
       "1         NaN       NaN       NaN       NaN         NaN       NaN       NaN   \n",
       "2   44.849998       NaN       NaN       NaN   44.849998       NaN       NaN   \n",
       "3  243.020000       NaN       NaN       NaN  243.020000       NaN       NaN   \n",
       "4  195.060000       NaN       NaN       NaN  308.239990       NaN       NaN   \n",
       "\n",
       "   Na_c_std  \n",
       "0       NaN  \n",
       "1       NaN  \n",
       "2       NaN  \n",
       "3       NaN  \n",
       "4       NaN  \n",
       "\n",
       "[5 rows x 139 columns]"
      ]
     },
     "execution_count": 61,
     "metadata": {},
     "output_type": "execute_result"
    }
   ],
   "source": [
    "data.head(5)"
   ]
  },
  {
   "cell_type": "code",
   "execution_count": 62,
   "metadata": {},
   "outputs": [
    {
     "data": {
      "text/plain": [
       "(25000, 139)"
      ]
     },
     "execution_count": 62,
     "metadata": {},
     "output_type": "execute_result"
    }
   ],
   "source": [
    "data.shape"
   ]
  },
  {
   "cell_type": "markdown",
   "metadata": {},
   "source": [
    "__Helpful hint__: Load the data into a dataframe. Use the `parse_dates=['Date_time']` argument in the `read_csv` function in order to display dates in later plots."
   ]
  },
  {
   "cell_type": "code",
   "execution_count": 63,
   "metadata": {},
   "outputs": [],
   "source": [
    "# Loading data_description.csv as description\n",
    "\n",
    "description = pd.read_csv('data_description.csv', sep=';')"
   ]
  },
  {
   "cell_type": "code",
   "execution_count": 64,
   "metadata": {},
   "outputs": [
    {
     "data": {
      "text/html": [
       "<div>\n",
       "<style scoped>\n",
       "    .dataframe tbody tr th:only-of-type {\n",
       "        vertical-align: middle;\n",
       "    }\n",
       "\n",
       "    .dataframe tbody tr th {\n",
       "        vertical-align: top;\n",
       "    }\n",
       "\n",
       "    .dataframe thead th {\n",
       "        text-align: right;\n",
       "    }\n",
       "</style>\n",
       "<table border=\"1\" class=\"dataframe\">\n",
       "  <thead>\n",
       "    <tr style=\"text-align: right;\">\n",
       "      <th></th>\n",
       "      <th>Variable_name</th>\n",
       "      <th>Variable_long_name</th>\n",
       "      <th>Unit_long_name</th>\n",
       "      <th>Comment</th>\n",
       "    </tr>\n",
       "  </thead>\n",
       "  <tbody>\n",
       "    <tr>\n",
       "      <th>0</th>\n",
       "      <td>Va2</td>\n",
       "      <td>Vane_position_2</td>\n",
       "      <td>deg</td>\n",
       "      <td>Second wind vane on the nacelle</td>\n",
       "    </tr>\n",
       "    <tr>\n",
       "      <th>1</th>\n",
       "      <td>Ws2</td>\n",
       "      <td>Wind_speed_2</td>\n",
       "      <td>m/s</td>\n",
       "      <td>Second anemometer on the nacelle</td>\n",
       "    </tr>\n",
       "    <tr>\n",
       "      <th>2</th>\n",
       "      <td>Ws</td>\n",
       "      <td>Wind_speed</td>\n",
       "      <td>m/s</td>\n",
       "      <td>Average wind speed</td>\n",
       "    </tr>\n",
       "    <tr>\n",
       "      <th>3</th>\n",
       "      <td>Wa_c</td>\n",
       "      <td>Absolute_wind_direction_corrected</td>\n",
       "      <td>deg</td>\n",
       "      <td>NaN</td>\n",
       "    </tr>\n",
       "    <tr>\n",
       "      <th>4</th>\n",
       "      <td>Na_c</td>\n",
       "      <td>Nacelle_angle_corrected</td>\n",
       "      <td>deg</td>\n",
       "      <td>NaN</td>\n",
       "    </tr>\n",
       "  </tbody>\n",
       "</table>\n",
       "</div>"
      ],
      "text/plain": [
       "  Variable_name                 Variable_long_name Unit_long_name  \\\n",
       "0           Va2                    Vane_position_2            deg   \n",
       "1           Ws2                       Wind_speed_2            m/s   \n",
       "2            Ws                         Wind_speed            m/s   \n",
       "3          Wa_c  Absolute_wind_direction_corrected            deg   \n",
       "4          Na_c            Nacelle_angle_corrected            deg   \n",
       "\n",
       "                            Comment  \n",
       "0   Second wind vane on the nacelle  \n",
       "1  Second anemometer on the nacelle  \n",
       "2                Average wind speed  \n",
       "3                               NaN  \n",
       "4                               NaN  "
      ]
     },
     "execution_count": 64,
     "metadata": {},
     "output_type": "execute_result"
    }
   ],
   "source": [
    "description.head()"
   ]
  },
  {
   "cell_type": "code",
   "execution_count": 65,
   "metadata": {},
   "outputs": [
    {
     "data": {
      "text/plain": [
       "(34, 4)"
      ]
     },
     "execution_count": 65,
     "metadata": {},
     "output_type": "execute_result"
    }
   ],
   "source": [
    "description.shape"
   ]
  },
  {
   "cell_type": "markdown",
   "metadata": {},
   "source": [
    "### Explore the data"
   ]
  },
  {
   "cell_type": "markdown",
   "metadata": {},
   "source": [
    "Once you've loaded the data into a pandas dataframe, explore the data. You may start by generating summary statistics, identifying any missing values, and filling in missing values. Generate visualizations of the features as a way to start understanding the distribution of the data."
   ]
  },
  {
   "cell_type": "code",
   "execution_count": 66,
   "metadata": {},
   "outputs": [
    {
     "data": {
      "text/plain": [
       "Date_time     0\n",
       "Ba_avg        0\n",
       "Ba_min        0\n",
       "Ba_max        0\n",
       "Ba_std        0\n",
       "Rt_avg        0\n",
       "Rt_min        0\n",
       "Rt_max        0\n",
       "Rt_std        0\n",
       "DCs_avg       0\n",
       "DCs_min       0\n",
       "DCs_max       0\n",
       "DCs_std       0\n",
       "Cm_avg        0\n",
       "Cm_min        0\n",
       "Cm_max        0\n",
       "Cm_std        0\n",
       "P_avg         0\n",
       "P_min         0\n",
       "P_max         0\n",
       "P_std         0\n",
       "Q_avg         0\n",
       "Q_min         0\n",
       "Q_max         0\n",
       "Q_std         0\n",
       "S_avg         0\n",
       "S_min         0\n",
       "S_max         0\n",
       "S_std         0\n",
       "Cosphi_avg    0\n",
       "             ..\n",
       "Nf_max        0\n",
       "Nf_std        0\n",
       "Nu_avg        0\n",
       "Nu_min        0\n",
       "Nu_max        0\n",
       "Nu_std        0\n",
       "Rs_avg        0\n",
       "Rs_min        0\n",
       "Rs_max        0\n",
       "Rs_std        0\n",
       "Rbt_avg       0\n",
       "Rbt_min       0\n",
       "Rbt_max       0\n",
       "Rbt_std       0\n",
       "Rm_avg        0\n",
       "Rm_min        0\n",
       "Rm_max        0\n",
       "Rm_std        0\n",
       "Pas_avg       0\n",
       "Pas_min       0\n",
       "Pas_max       0\n",
       "Pas_std       0\n",
       "Wa_c_avg      0\n",
       "Wa_c_min      0\n",
       "Wa_c_max      0\n",
       "Wa_c_std      0\n",
       "Na_c_avg      0\n",
       "Na_c_min      0\n",
       "Na_c_max      0\n",
       "Na_c_std      0\n",
       "Length: 137, dtype: int64"
      ]
     },
     "execution_count": 66,
     "metadata": {},
     "output_type": "execute_result"
    }
   ],
   "source": [
    "(data.iloc[:, 2:] == -200.0).sum()"
   ]
  },
  {
   "cell_type": "code",
   "execution_count": 67,
   "metadata": {},
   "outputs": [
    {
     "name": "stdout",
     "output_type": "stream",
     "text": [
      "<class 'pandas.core.frame.DataFrame'>\n",
      "RangeIndex: 25000 entries, 0 to 24999\n",
      "Columns: 139 entries, Unnamed: 0 to Na_c_std\n",
      "dtypes: datetime64[ns](1), float64(136), int64(1), object(1)\n",
      "memory usage: 26.5+ MB\n"
     ]
    }
   ],
   "source": [
    "data.info()"
   ]
  },
  {
   "cell_type": "code",
   "execution_count": 68,
   "metadata": {},
   "outputs": [
    {
     "data": {
      "text/plain": [
       "Unnamed: 0               0\n",
       "Wind_turbine_name        0\n",
       "Date_time                0\n",
       "Ba_avg                 137\n",
       "Ba_min                 137\n",
       "Ba_max                 137\n",
       "Ba_std                 137\n",
       "Rt_avg                 137\n",
       "Rt_min                 137\n",
       "Rt_max                 137\n",
       "Rt_std                 137\n",
       "DCs_avg                137\n",
       "DCs_min                137\n",
       "DCs_max                137\n",
       "DCs_std                137\n",
       "Cm_avg                 137\n",
       "Cm_min                 137\n",
       "Cm_max                 137\n",
       "Cm_std                 137\n",
       "P_avg                  137\n",
       "P_min                  137\n",
       "P_max                  137\n",
       "P_std                  137\n",
       "Q_avg                  137\n",
       "Q_min                  137\n",
       "Q_max                  137\n",
       "Q_std                  137\n",
       "S_avg                  137\n",
       "S_min                  137\n",
       "S_max                  137\n",
       "                     ...  \n",
       "Nf_max                 137\n",
       "Nf_std                 137\n",
       "Nu_avg                 137\n",
       "Nu_min                 137\n",
       "Nu_max                 137\n",
       "Nu_std                 137\n",
       "Rs_avg                 137\n",
       "Rs_min                 137\n",
       "Rs_max                 137\n",
       "Rs_std                 137\n",
       "Rbt_avg                137\n",
       "Rbt_min                137\n",
       "Rbt_max                137\n",
       "Rbt_std                137\n",
       "Rm_avg                 137\n",
       "Rm_min                 137\n",
       "Rm_max                 137\n",
       "Rm_std                 137\n",
       "Pas_avg              25000\n",
       "Pas_min              25000\n",
       "Pas_max              25000\n",
       "Pas_std              25000\n",
       "Wa_c_avg               977\n",
       "Wa_c_min             25000\n",
       "Wa_c_max             25000\n",
       "Wa_c_std             25000\n",
       "Na_c_avg               977\n",
       "Na_c_min             25000\n",
       "Na_c_max             25000\n",
       "Na_c_std             25000\n",
       "Length: 139, dtype: int64"
      ]
     },
     "execution_count": 68,
     "metadata": {},
     "output_type": "execute_result"
    }
   ],
   "source": [
    "data.isnull().sum()"
   ]
  },
  {
   "cell_type": "code",
   "execution_count": 69,
   "metadata": {},
   "outputs": [
    {
     "data": {
      "text/plain": [
       "Index(['Unnamed: 0', 'Wind_turbine_name', 'Date_time', 'Ba_avg', 'Ba_min',\n",
       "       'Ba_max', 'Ba_std', 'Rt_avg', 'Rt_min', 'Rt_max',\n",
       "       ...\n",
       "       'Pas_max', 'Pas_std', 'Wa_c_avg', 'Wa_c_min', 'Wa_c_max', 'Wa_c_std',\n",
       "       'Na_c_avg', 'Na_c_min', 'Na_c_max', 'Na_c_std'],\n",
       "      dtype='object', length=139)"
      ]
     },
     "execution_count": 69,
     "metadata": {},
     "output_type": "execute_result"
    }
   ],
   "source": [
    "data.columns"
   ]
  },
  {
   "cell_type": "code",
   "execution_count": 70,
   "metadata": {},
   "outputs": [],
   "source": [
    "data = data.fillna(data.median(axis=0))"
   ]
  },
  {
   "cell_type": "code",
   "execution_count": 71,
   "metadata": {},
   "outputs": [
    {
     "data": {
      "text/plain": [
       "Unnamed: 0               0\n",
       "Wind_turbine_name        0\n",
       "Date_time                0\n",
       "Ba_avg                   0\n",
       "Ba_min                   0\n",
       "Ba_max                   0\n",
       "Ba_std                   0\n",
       "Rt_avg                   0\n",
       "Rt_min                   0\n",
       "Rt_max                   0\n",
       "Rt_std                   0\n",
       "DCs_avg                  0\n",
       "DCs_min                  0\n",
       "DCs_max                  0\n",
       "DCs_std                  0\n",
       "Cm_avg                   0\n",
       "Cm_min                   0\n",
       "Cm_max                   0\n",
       "Cm_std                   0\n",
       "P_avg                    0\n",
       "P_min                    0\n",
       "P_max                    0\n",
       "P_std                    0\n",
       "Q_avg                    0\n",
       "Q_min                    0\n",
       "Q_max                    0\n",
       "Q_std                    0\n",
       "S_avg                    0\n",
       "S_min                    0\n",
       "S_max                    0\n",
       "                     ...  \n",
       "Nf_max                   0\n",
       "Nf_std                   0\n",
       "Nu_avg                   0\n",
       "Nu_min                   0\n",
       "Nu_max                   0\n",
       "Nu_std                   0\n",
       "Rs_avg                   0\n",
       "Rs_min                   0\n",
       "Rs_max                   0\n",
       "Rs_std                   0\n",
       "Rbt_avg                  0\n",
       "Rbt_min                  0\n",
       "Rbt_max                  0\n",
       "Rbt_std                  0\n",
       "Rm_avg                   0\n",
       "Rm_min                   0\n",
       "Rm_max                   0\n",
       "Rm_std                   0\n",
       "Pas_avg              25000\n",
       "Pas_min              25000\n",
       "Pas_max              25000\n",
       "Pas_std              25000\n",
       "Wa_c_avg                 0\n",
       "Wa_c_min             25000\n",
       "Wa_c_max             25000\n",
       "Wa_c_std             25000\n",
       "Na_c_avg                 0\n",
       "Na_c_min             25000\n",
       "Na_c_max             25000\n",
       "Na_c_std             25000\n",
       "Length: 139, dtype: int64"
      ]
     },
     "execution_count": 71,
     "metadata": {},
     "output_type": "execute_result"
    }
   ],
   "source": [
    "#check to see if missung data still exist\n",
    "\n",
    "data.isnull().sum()"
   ]
  },
  {
   "cell_type": "code",
   "execution_count": 72,
   "metadata": {},
   "outputs": [
    {
     "data": {
      "text/plain": [
       "Unnamed: 0                    int64\n",
       "Wind_turbine_name            object\n",
       "Date_time            datetime64[ns]\n",
       "Ba_avg                      float64\n",
       "Ba_min                      float64\n",
       "Ba_max                      float64\n",
       "Ba_std                      float64\n",
       "Rt_avg                      float64\n",
       "Rt_min                      float64\n",
       "Rt_max                      float64\n",
       "Rt_std                      float64\n",
       "DCs_avg                     float64\n",
       "DCs_min                     float64\n",
       "DCs_max                     float64\n",
       "DCs_std                     float64\n",
       "Cm_avg                      float64\n",
       "Cm_min                      float64\n",
       "Cm_max                      float64\n",
       "Cm_std                      float64\n",
       "P_avg                       float64\n",
       "P_min                       float64\n",
       "P_max                       float64\n",
       "P_std                       float64\n",
       "Q_avg                       float64\n",
       "Q_min                       float64\n",
       "Q_max                       float64\n",
       "Q_std                       float64\n",
       "S_avg                       float64\n",
       "S_min                       float64\n",
       "S_max                       float64\n",
       "                          ...      \n",
       "Nf_max                      float64\n",
       "Nf_std                      float64\n",
       "Nu_avg                      float64\n",
       "Nu_min                      float64\n",
       "Nu_max                      float64\n",
       "Nu_std                      float64\n",
       "Rs_avg                      float64\n",
       "Rs_min                      float64\n",
       "Rs_max                      float64\n",
       "Rs_std                      float64\n",
       "Rbt_avg                     float64\n",
       "Rbt_min                     float64\n",
       "Rbt_max                     float64\n",
       "Rbt_std                     float64\n",
       "Rm_avg                      float64\n",
       "Rm_min                      float64\n",
       "Rm_max                      float64\n",
       "Rm_std                      float64\n",
       "Pas_avg                     float64\n",
       "Pas_min                     float64\n",
       "Pas_max                     float64\n",
       "Pas_std                     float64\n",
       "Wa_c_avg                    float64\n",
       "Wa_c_min                    float64\n",
       "Wa_c_max                    float64\n",
       "Wa_c_std                    float64\n",
       "Na_c_avg                    float64\n",
       "Na_c_min                    float64\n",
       "Na_c_max                    float64\n",
       "Na_c_std                    float64\n",
       "Length: 139, dtype: object"
      ]
     },
     "execution_count": 72,
     "metadata": {},
     "output_type": "execute_result"
    }
   ],
   "source": [
    "data.dtypes"
   ]
  },
  {
   "cell_type": "markdown",
   "metadata": {},
   "source": [
    "Because we are investigating power output, the active power feature is given by the following features in  the dataset: `P_avg, P_min, P_max, P_std`. Decide on which active power feature to use (hint: perhaps the average or maximum would be a good place to start). Begin by using the function `groupby` to determine how many turbines there are in the dataset. The dataset is huge, so in order to visualize trends in power output, a simpler way would be to look at monthly trends in the data."
   ]
  },
  {
   "cell_type": "code",
   "execution_count": 73,
   "metadata": {},
   "outputs": [
    {
     "data": {
      "text/html": [
       "<div>\n",
       "<style scoped>\n",
       "    .dataframe tbody tr th:only-of-type {\n",
       "        vertical-align: middle;\n",
       "    }\n",
       "\n",
       "    .dataframe tbody tr th {\n",
       "        vertical-align: top;\n",
       "    }\n",
       "\n",
       "    .dataframe thead th {\n",
       "        text-align: right;\n",
       "    }\n",
       "</style>\n",
       "<table border=\"1\" class=\"dataframe\">\n",
       "  <thead>\n",
       "    <tr style=\"text-align: right;\">\n",
       "      <th></th>\n",
       "      <th>Unnamed: 0</th>\n",
       "      <th>Ba_avg</th>\n",
       "      <th>Ba_min</th>\n",
       "      <th>Ba_max</th>\n",
       "      <th>Ba_std</th>\n",
       "      <th>Rt_avg</th>\n",
       "      <th>Rt_min</th>\n",
       "      <th>Rt_max</th>\n",
       "      <th>Rt_std</th>\n",
       "      <th>DCs_avg</th>\n",
       "      <th>...</th>\n",
       "      <th>Pas_max</th>\n",
       "      <th>Pas_std</th>\n",
       "      <th>Wa_c_avg</th>\n",
       "      <th>Wa_c_min</th>\n",
       "      <th>Wa_c_max</th>\n",
       "      <th>Wa_c_std</th>\n",
       "      <th>Na_c_avg</th>\n",
       "      <th>Na_c_min</th>\n",
       "      <th>Na_c_max</th>\n",
       "      <th>Na_c_std</th>\n",
       "    </tr>\n",
       "    <tr>\n",
       "      <th>Wind_turbine_name</th>\n",
       "      <th></th>\n",
       "      <th></th>\n",
       "      <th></th>\n",
       "      <th></th>\n",
       "      <th></th>\n",
       "      <th></th>\n",
       "      <th></th>\n",
       "      <th></th>\n",
       "      <th></th>\n",
       "      <th></th>\n",
       "      <th></th>\n",
       "      <th></th>\n",
       "      <th></th>\n",
       "      <th></th>\n",
       "      <th></th>\n",
       "      <th></th>\n",
       "      <th></th>\n",
       "      <th></th>\n",
       "      <th></th>\n",
       "      <th></th>\n",
       "      <th></th>\n",
       "    </tr>\n",
       "  </thead>\n",
       "  <tbody>\n",
       "    <tr>\n",
       "      <th>R80711</th>\n",
       "      <td>288751.011725</td>\n",
       "      <td>9.561629</td>\n",
       "      <td>8.454923</td>\n",
       "      <td>11.074550</td>\n",
       "      <td>0.875389</td>\n",
       "      <td>18.171156</td>\n",
       "      <td>18.005008</td>\n",
       "      <td>18.340177</td>\n",
       "      <td>0.084505</td>\n",
       "      <td>1161.756149</td>\n",
       "      <td>...</td>\n",
       "      <td>NaN</td>\n",
       "      <td>NaN</td>\n",
       "      <td>178.807453</td>\n",
       "      <td>NaN</td>\n",
       "      <td>NaN</td>\n",
       "      <td>NaN</td>\n",
       "      <td>179.244816</td>\n",
       "      <td>NaN</td>\n",
       "      <td>NaN</td>\n",
       "      <td>NaN</td>\n",
       "    </tr>\n",
       "    <tr>\n",
       "      <th>R80721</th>\n",
       "      <td>403385.883331</td>\n",
       "      <td>10.581218</td>\n",
       "      <td>9.364235</td>\n",
       "      <td>12.128742</td>\n",
       "      <td>0.955923</td>\n",
       "      <td>20.576139</td>\n",
       "      <td>20.368899</td>\n",
       "      <td>20.765076</td>\n",
       "      <td>0.099174</td>\n",
       "      <td>1076.768740</td>\n",
       "      <td>...</td>\n",
       "      <td>NaN</td>\n",
       "      <td>NaN</td>\n",
       "      <td>178.139481</td>\n",
       "      <td>NaN</td>\n",
       "      <td>NaN</td>\n",
       "      <td>NaN</td>\n",
       "      <td>178.903059</td>\n",
       "      <td>NaN</td>\n",
       "      <td>NaN</td>\n",
       "      <td>NaN</td>\n",
       "    </tr>\n",
       "    <tr>\n",
       "      <th>R80736</th>\n",
       "      <td>508117.399456</td>\n",
       "      <td>10.659611</td>\n",
       "      <td>9.493553</td>\n",
       "      <td>12.117887</td>\n",
       "      <td>0.882334</td>\n",
       "      <td>19.362064</td>\n",
       "      <td>19.093340</td>\n",
       "      <td>19.738907</td>\n",
       "      <td>0.167949</td>\n",
       "      <td>1085.804896</td>\n",
       "      <td>...</td>\n",
       "      <td>NaN</td>\n",
       "      <td>NaN</td>\n",
       "      <td>179.843391</td>\n",
       "      <td>NaN</td>\n",
       "      <td>NaN</td>\n",
       "      <td>NaN</td>\n",
       "      <td>181.116856</td>\n",
       "      <td>NaN</td>\n",
       "      <td>NaN</td>\n",
       "      <td>NaN</td>\n",
       "    </tr>\n",
       "    <tr>\n",
       "      <th>R80790</th>\n",
       "      <td>481871.198692</td>\n",
       "      <td>24.454598</td>\n",
       "      <td>23.571800</td>\n",
       "      <td>25.741506</td>\n",
       "      <td>0.711874</td>\n",
       "      <td>19.142451</td>\n",
       "      <td>19.012776</td>\n",
       "      <td>19.281198</td>\n",
       "      <td>0.069783</td>\n",
       "      <td>900.446967</td>\n",
       "      <td>...</td>\n",
       "      <td>NaN</td>\n",
       "      <td>NaN</td>\n",
       "      <td>179.319871</td>\n",
       "      <td>NaN</td>\n",
       "      <td>NaN</td>\n",
       "      <td>NaN</td>\n",
       "      <td>180.594821</td>\n",
       "      <td>NaN</td>\n",
       "      <td>NaN</td>\n",
       "      <td>NaN</td>\n",
       "    </tr>\n",
       "  </tbody>\n",
       "</table>\n",
       "<p>4 rows × 137 columns</p>\n",
       "</div>"
      ],
      "text/plain": [
       "                      Unnamed: 0     Ba_avg     Ba_min     Ba_max    Ba_std  \\\n",
       "Wind_turbine_name                                                             \n",
       "R80711             288751.011725   9.561629   8.454923  11.074550  0.875389   \n",
       "R80721             403385.883331  10.581218   9.364235  12.128742  0.955923   \n",
       "R80736             508117.399456  10.659611   9.493553  12.117887  0.882334   \n",
       "R80790             481871.198692  24.454598  23.571800  25.741506  0.711874   \n",
       "\n",
       "                      Rt_avg     Rt_min     Rt_max    Rt_std      DCs_avg  \\\n",
       "Wind_turbine_name                                                           \n",
       "R80711             18.171156  18.005008  18.340177  0.084505  1161.756149   \n",
       "R80721             20.576139  20.368899  20.765076  0.099174  1076.768740   \n",
       "R80736             19.362064  19.093340  19.738907  0.167949  1085.804896   \n",
       "R80790             19.142451  19.012776  19.281198  0.069783   900.446967   \n",
       "\n",
       "                     ...     Pas_max  Pas_std    Wa_c_avg  Wa_c_min  Wa_c_max  \\\n",
       "Wind_turbine_name    ...                                                        \n",
       "R80711               ...         NaN      NaN  178.807453       NaN       NaN   \n",
       "R80721               ...         NaN      NaN  178.139481       NaN       NaN   \n",
       "R80736               ...         NaN      NaN  179.843391       NaN       NaN   \n",
       "R80790               ...         NaN      NaN  179.319871       NaN       NaN   \n",
       "\n",
       "                   Wa_c_std    Na_c_avg  Na_c_min  Na_c_max  Na_c_std  \n",
       "Wind_turbine_name                                                      \n",
       "R80711                  NaN  179.244816       NaN       NaN       NaN  \n",
       "R80721                  NaN  178.903059       NaN       NaN       NaN  \n",
       "R80736                  NaN  181.116856       NaN       NaN       NaN  \n",
       "R80790                  NaN  180.594821       NaN       NaN       NaN  \n",
       "\n",
       "[4 rows x 137 columns]"
      ]
     },
     "execution_count": 73,
     "metadata": {},
     "output_type": "execute_result"
    }
   ],
   "source": [
    "data.groupby('Wind_turbine_name').mean()"
   ]
  },
  {
   "cell_type": "markdown",
   "metadata": {},
   "source": [
    "There is a wind turbine with `Wind_turbine_name` R80711. Use this column and determine the trend for the month of January."
   ]
  },
  {
   "cell_type": "code",
   "execution_count": 74,
   "metadata": {},
   "outputs": [],
   "source": [
    "# Wind turbine with name R80711 is name as df\n",
    "\n",
    "df = data.loc[data['Wind_turbine_name'] == 'R80711']"
   ]
  },
  {
   "cell_type": "code",
   "execution_count": 75,
   "metadata": {},
   "outputs": [],
   "source": [
    "# determining turbine R80711 trend for January\n",
    "\n",
    "jan_power = df[['Date_time','P_max']].loc[('2013-01-01'< df[['Date_time','P_max']]['Date_time']) & (df[['Date_time','P_max']]['Date_time']<'2013-01-31')]"
   ]
  },
  {
   "cell_type": "code",
   "execution_count": 76,
   "metadata": {},
   "outputs": [
    {
     "data": {
      "text/html": [
       "<div>\n",
       "<style scoped>\n",
       "    .dataframe tbody tr th:only-of-type {\n",
       "        vertical-align: middle;\n",
       "    }\n",
       "\n",
       "    .dataframe tbody tr th {\n",
       "        vertical-align: top;\n",
       "    }\n",
       "\n",
       "    .dataframe thead th {\n",
       "        text-align: right;\n",
       "    }\n",
       "</style>\n",
       "<table border=\"1\" class=\"dataframe\">\n",
       "  <thead>\n",
       "    <tr style=\"text-align: right;\">\n",
       "      <th></th>\n",
       "      <th>Date_time</th>\n",
       "      <th>P_max</th>\n",
       "    </tr>\n",
       "  </thead>\n",
       "  <tbody>\n",
       "    <tr>\n",
       "      <th>102</th>\n",
       "      <td>2013-01-05 02:40:00</td>\n",
       "      <td>213.89000</td>\n",
       "    </tr>\n",
       "    <tr>\n",
       "      <th>112</th>\n",
       "      <td>2013-01-02 13:30:00</td>\n",
       "      <td>-0.52000</td>\n",
       "    </tr>\n",
       "    <tr>\n",
       "      <th>180</th>\n",
       "      <td>2013-01-04 22:50:00</td>\n",
       "      <td>188.25999</td>\n",
       "    </tr>\n",
       "    <tr>\n",
       "      <th>539</th>\n",
       "      <td>2013-01-03 14:40:00</td>\n",
       "      <td>334.41000</td>\n",
       "    </tr>\n",
       "    <tr>\n",
       "      <th>741</th>\n",
       "      <td>2013-01-22 10:30:00</td>\n",
       "      <td>-0.61000</td>\n",
       "    </tr>\n",
       "  </tbody>\n",
       "</table>\n",
       "</div>"
      ],
      "text/plain": [
       "              Date_time      P_max\n",
       "102 2013-01-05 02:40:00  213.89000\n",
       "112 2013-01-02 13:30:00   -0.52000\n",
       "180 2013-01-04 22:50:00  188.25999\n",
       "539 2013-01-03 14:40:00  334.41000\n",
       "741 2013-01-22 10:30:00   -0.61000"
      ]
     },
     "execution_count": 76,
     "metadata": {},
     "output_type": "execute_result"
    }
   ],
   "source": [
    "jan_power.head()"
   ]
  },
  {
   "cell_type": "code",
   "execution_count": 77,
   "metadata": {},
   "outputs": [
    {
     "data": {
      "text/plain": [
       "(130, 2)"
      ]
     },
     "execution_count": 77,
     "metadata": {},
     "output_type": "execute_result"
    }
   ],
   "source": [
    "jan_power.shape"
   ]
  },
  {
   "cell_type": "code",
   "execution_count": 78,
   "metadata": {},
   "outputs": [
    {
     "data": {
      "text/plain": [
       "<matplotlib.axes._subplots.AxesSubplot at 0x1a32250d68>"
      ]
     },
     "execution_count": 78,
     "metadata": {},
     "output_type": "execute_result"
    },
    {
     "data": {
      "image/png": "[encoded data removed]",
      "text/plain": [
       "<Figure size 720x360 with 1 Axes>"
      ]
     },
     "metadata": {
      "needs_background": "light"
     },
     "output_type": "display_data"
    }
   ],
   "source": [
    "# plotting the trend of turbine R80711 P_max for month of january\n",
    "\n",
    "jan_power.plot(x='Date_time', y='P_max', figsize=(10, 5))"
   ]
  },
  {
   "cell_type": "markdown",
   "metadata": {},
   "source": [
    "### Find missing values"
   ]
  },
  {
   "cell_type": "markdown",
   "metadata": {},
   "source": [
    "A dataset with missing values will not be usable for fitting and testing a model. Fill in missing values in a way suitable for the model."
   ]
  },
  {
   "cell_type": "code",
   "execution_count": 79,
   "metadata": {},
   "outputs": [
    {
     "data": {
      "text/plain": [
       "Unnamed: 0               0\n",
       "Wind_turbine_name        0\n",
       "Date_time                0\n",
       "Ba_avg                   0\n",
       "Ba_min                   0\n",
       "Ba_max                   0\n",
       "Ba_std                   0\n",
       "Rt_avg                   0\n",
       "Rt_min                   0\n",
       "Rt_max                   0\n",
       "Rt_std                   0\n",
       "DCs_avg                  0\n",
       "DCs_min                  0\n",
       "DCs_max                  0\n",
       "DCs_std                  0\n",
       "Cm_avg                   0\n",
       "Cm_min                   0\n",
       "Cm_max                   0\n",
       "Cm_std                   0\n",
       "P_avg                    0\n",
       "P_min                    0\n",
       "P_max                    0\n",
       "P_std                    0\n",
       "Q_avg                    0\n",
       "Q_min                    0\n",
       "Q_max                    0\n",
       "Q_std                    0\n",
       "S_avg                    0\n",
       "S_min                    0\n",
       "S_max                    0\n",
       "                     ...  \n",
       "Nf_max                   0\n",
       "Nf_std                   0\n",
       "Nu_avg                   0\n",
       "Nu_min                   0\n",
       "Nu_max                   0\n",
       "Nu_std                   0\n",
       "Rs_avg                   0\n",
       "Rs_min                   0\n",
       "Rs_max                   0\n",
       "Rs_std                   0\n",
       "Rbt_avg                  0\n",
       "Rbt_min                  0\n",
       "Rbt_max                  0\n",
       "Rbt_std                  0\n",
       "Rm_avg                   0\n",
       "Rm_min                   0\n",
       "Rm_max                   0\n",
       "Rm_std                   0\n",
       "Pas_avg              25000\n",
       "Pas_min              25000\n",
       "Pas_max              25000\n",
       "Pas_std              25000\n",
       "Wa_c_avg                 0\n",
       "Wa_c_min             25000\n",
       "Wa_c_max             25000\n",
       "Wa_c_std             25000\n",
       "Na_c_avg                 0\n",
       "Na_c_min             25000\n",
       "Na_c_max             25000\n",
       "Na_c_std             25000\n",
       "Length: 139, dtype: int64"
      ]
     },
     "execution_count": 79,
     "metadata": {},
     "output_type": "execute_result"
    }
   ],
   "source": [
    "# check for missing values in the data, i have done this in previous steps\n",
    "\n",
    "data.isnull().sum()"
   ]
  },
  {
   "cell_type": "code",
   "execution_count": 80,
   "metadata": {},
   "outputs": [
    {
     "data": {
      "text/html": [
       "<div>\n",
       "<style scoped>\n",
       "    .dataframe tbody tr th:only-of-type {\n",
       "        vertical-align: middle;\n",
       "    }\n",
       "\n",
       "    .dataframe tbody tr th {\n",
       "        vertical-align: top;\n",
       "    }\n",
       "\n",
       "    .dataframe thead th {\n",
       "        text-align: right;\n",
       "    }\n",
       "</style>\n",
       "<table border=\"1\" class=\"dataframe\">\n",
       "  <thead>\n",
       "    <tr style=\"text-align: right;\">\n",
       "      <th></th>\n",
       "      <th>Unnamed: 0</th>\n",
       "      <th>Wind_turbine_name</th>\n",
       "      <th>Date_time</th>\n",
       "      <th>Ba_avg</th>\n",
       "      <th>Ba_min</th>\n",
       "      <th>Ba_max</th>\n",
       "      <th>Ba_std</th>\n",
       "      <th>Rt_avg</th>\n",
       "      <th>Rt_min</th>\n",
       "      <th>Rt_max</th>\n",
       "      <th>...</th>\n",
       "      <th>Pas_max</th>\n",
       "      <th>Pas_std</th>\n",
       "      <th>Wa_c_avg</th>\n",
       "      <th>Wa_c_min</th>\n",
       "      <th>Wa_c_max</th>\n",
       "      <th>Wa_c_std</th>\n",
       "      <th>Na_c_avg</th>\n",
       "      <th>Na_c_min</th>\n",
       "      <th>Na_c_max</th>\n",
       "      <th>Na_c_std</th>\n",
       "    </tr>\n",
       "  </thead>\n",
       "  <tbody>\n",
       "    <tr>\n",
       "      <th>0</th>\n",
       "      <td>804808</td>\n",
       "      <td>R80711</td>\n",
       "      <td>2013-04-06 14:20:00</td>\n",
       "      <td>-0.940000</td>\n",
       "      <td>-0.950000</td>\n",
       "      <td>-0.940000</td>\n",
       "      <td>0.0</td>\n",
       "      <td>10.59</td>\n",
       "      <td>10.000000</td>\n",
       "      <td>11.0</td>\n",
       "      <td>...</td>\n",
       "      <td>NaN</td>\n",
       "      <td>NaN</td>\n",
       "      <td>358.870000</td>\n",
       "      <td>NaN</td>\n",
       "      <td>NaN</td>\n",
       "      <td>NaN</td>\n",
       "      <td>351.670010</td>\n",
       "      <td>NaN</td>\n",
       "      <td>NaN</td>\n",
       "      <td>NaN</td>\n",
       "    </tr>\n",
       "    <tr>\n",
       "      <th>1</th>\n",
       "      <td>732424</td>\n",
       "      <td>R80711</td>\n",
       "      <td>2015-12-22 14:30:00</td>\n",
       "      <td>-0.990000</td>\n",
       "      <td>-0.990000</td>\n",
       "      <td>-0.990000</td>\n",
       "      <td>0.0</td>\n",
       "      <td>17.00</td>\n",
       "      <td>17.000000</td>\n",
       "      <td>17.0</td>\n",
       "      <td>...</td>\n",
       "      <td>NaN</td>\n",
       "      <td>NaN</td>\n",
       "      <td>195.190000</td>\n",
       "      <td>NaN</td>\n",
       "      <td>NaN</td>\n",
       "      <td>NaN</td>\n",
       "      <td>196.710010</td>\n",
       "      <td>NaN</td>\n",
       "      <td>NaN</td>\n",
       "      <td>NaN</td>\n",
       "    </tr>\n",
       "    <tr>\n",
       "      <th>2</th>\n",
       "      <td>312987</td>\n",
       "      <td>R80711</td>\n",
       "      <td>2016-03-20 20:40:00</td>\n",
       "      <td>-0.990000</td>\n",
       "      <td>-0.990000</td>\n",
       "      <td>-0.990000</td>\n",
       "      <td>0.0</td>\n",
       "      <td>12.88</td>\n",
       "      <td>12.000000</td>\n",
       "      <td>13.0</td>\n",
       "      <td>...</td>\n",
       "      <td>NaN</td>\n",
       "      <td>NaN</td>\n",
       "      <td>44.849998</td>\n",
       "      <td>NaN</td>\n",
       "      <td>NaN</td>\n",
       "      <td>NaN</td>\n",
       "      <td>44.849998</td>\n",
       "      <td>NaN</td>\n",
       "      <td>NaN</td>\n",
       "      <td>NaN</td>\n",
       "    </tr>\n",
       "    <tr>\n",
       "      <th>3</th>\n",
       "      <td>68152</td>\n",
       "      <td>R80711</td>\n",
       "      <td>2016-01-09 01:00:00</td>\n",
       "      <td>45.000000</td>\n",
       "      <td>45.000000</td>\n",
       "      <td>45.000000</td>\n",
       "      <td>0.0</td>\n",
       "      <td>12.95</td>\n",
       "      <td>12.000000</td>\n",
       "      <td>13.0</td>\n",
       "      <td>...</td>\n",
       "      <td>NaN</td>\n",
       "      <td>NaN</td>\n",
       "      <td>243.020000</td>\n",
       "      <td>NaN</td>\n",
       "      <td>NaN</td>\n",
       "      <td>NaN</td>\n",
       "      <td>243.020000</td>\n",
       "      <td>NaN</td>\n",
       "      <td>NaN</td>\n",
       "      <td>NaN</td>\n",
       "    </tr>\n",
       "    <tr>\n",
       "      <th>4</th>\n",
       "      <td>231878</td>\n",
       "      <td>R80721</td>\n",
       "      <td>2014-12-14 13:20:00</td>\n",
       "      <td>44.990002</td>\n",
       "      <td>44.990002</td>\n",
       "      <td>44.990002</td>\n",
       "      <td>0.0</td>\n",
       "      <td>16.99</td>\n",
       "      <td>16.110001</td>\n",
       "      <td>17.0</td>\n",
       "      <td>...</td>\n",
       "      <td>NaN</td>\n",
       "      <td>NaN</td>\n",
       "      <td>195.060000</td>\n",
       "      <td>NaN</td>\n",
       "      <td>NaN</td>\n",
       "      <td>NaN</td>\n",
       "      <td>308.239990</td>\n",
       "      <td>NaN</td>\n",
       "      <td>NaN</td>\n",
       "      <td>NaN</td>\n",
       "    </tr>\n",
       "  </tbody>\n",
       "</table>\n",
       "<p>5 rows × 139 columns</p>\n",
       "</div>"
      ],
      "text/plain": [
       "   Unnamed: 0 Wind_turbine_name           Date_time     Ba_avg     Ba_min  \\\n",
       "0      804808            R80711 2013-04-06 14:20:00  -0.940000  -0.950000   \n",
       "1      732424            R80711 2015-12-22 14:30:00  -0.990000  -0.990000   \n",
       "2      312987            R80711 2016-03-20 20:40:00  -0.990000  -0.990000   \n",
       "3       68152            R80711 2016-01-09 01:00:00  45.000000  45.000000   \n",
       "4      231878            R80721 2014-12-14 13:20:00  44.990002  44.990002   \n",
       "\n",
       "      Ba_max  Ba_std  Rt_avg     Rt_min  Rt_max    ...     Pas_max  Pas_std  \\\n",
       "0  -0.940000     0.0   10.59  10.000000    11.0    ...         NaN      NaN   \n",
       "1  -0.990000     0.0   17.00  17.000000    17.0    ...         NaN      NaN   \n",
       "2  -0.990000     0.0   12.88  12.000000    13.0    ...         NaN      NaN   \n",
       "3  45.000000     0.0   12.95  12.000000    13.0    ...         NaN      NaN   \n",
       "4  44.990002     0.0   16.99  16.110001    17.0    ...         NaN      NaN   \n",
       "\n",
       "     Wa_c_avg  Wa_c_min  Wa_c_max  Wa_c_std    Na_c_avg  Na_c_min  Na_c_max  \\\n",
       "0  358.870000       NaN       NaN       NaN  351.670010       NaN       NaN   \n",
       "1  195.190000       NaN       NaN       NaN  196.710010       NaN       NaN   \n",
       "2   44.849998       NaN       NaN       NaN   44.849998       NaN       NaN   \n",
       "3  243.020000       NaN       NaN       NaN  243.020000       NaN       NaN   \n",
       "4  195.060000       NaN       NaN       NaN  308.239990       NaN       NaN   \n",
       "\n",
       "   Na_c_std  \n",
       "0       NaN  \n",
       "1       NaN  \n",
       "2       NaN  \n",
       "3       NaN  \n",
       "4       NaN  \n",
       "\n",
       "[5 rows x 139 columns]"
      ]
     },
     "execution_count": 80,
     "metadata": {},
     "output_type": "execute_result"
    }
   ],
   "source": [
    "data.head()"
   ]
  },
  {
   "cell_type": "code",
   "execution_count": 81,
   "metadata": {},
   "outputs": [],
   "source": [
    "# using Dropna to remove a row or a column from a dataframe which has a NaN or no values in it.\n",
    "\n",
    "data = data.dropna(axis='columns')"
   ]
  },
  {
   "cell_type": "code",
   "execution_count": 82,
   "metadata": {},
   "outputs": [
    {
     "data": {
      "text/html": [
       "<div>\n",
       "<style scoped>\n",
       "    .dataframe tbody tr th:only-of-type {\n",
       "        vertical-align: middle;\n",
       "    }\n",
       "\n",
       "    .dataframe tbody tr th {\n",
       "        vertical-align: top;\n",
       "    }\n",
       "\n",
       "    .dataframe thead th {\n",
       "        text-align: right;\n",
       "    }\n",
       "</style>\n",
       "<table border=\"1\" class=\"dataframe\">\n",
       "  <thead>\n",
       "    <tr style=\"text-align: right;\">\n",
       "      <th></th>\n",
       "      <th>Unnamed: 0</th>\n",
       "      <th>Wind_turbine_name</th>\n",
       "      <th>Date_time</th>\n",
       "      <th>Ba_avg</th>\n",
       "      <th>Ba_min</th>\n",
       "      <th>Ba_max</th>\n",
       "      <th>Ba_std</th>\n",
       "      <th>Rt_avg</th>\n",
       "      <th>Rt_min</th>\n",
       "      <th>Rt_max</th>\n",
       "      <th>...</th>\n",
       "      <th>Rbt_avg</th>\n",
       "      <th>Rbt_min</th>\n",
       "      <th>Rbt_max</th>\n",
       "      <th>Rbt_std</th>\n",
       "      <th>Rm_avg</th>\n",
       "      <th>Rm_min</th>\n",
       "      <th>Rm_max</th>\n",
       "      <th>Rm_std</th>\n",
       "      <th>Wa_c_avg</th>\n",
       "      <th>Na_c_avg</th>\n",
       "    </tr>\n",
       "  </thead>\n",
       "  <tbody>\n",
       "    <tr>\n",
       "      <th>0</th>\n",
       "      <td>804808</td>\n",
       "      <td>R80711</td>\n",
       "      <td>2013-04-06 14:20:00</td>\n",
       "      <td>-0.940000</td>\n",
       "      <td>-0.950000</td>\n",
       "      <td>-0.940000</td>\n",
       "      <td>0.0</td>\n",
       "      <td>10.59</td>\n",
       "      <td>10.000000</td>\n",
       "      <td>11.0</td>\n",
       "      <td>...</td>\n",
       "      <td>25.129999</td>\n",
       "      <td>25.100000</td>\n",
       "      <td>25.299999</td>\n",
       "      <td>0.07</td>\n",
       "      <td>2921.1001</td>\n",
       "      <td>2102.1599</td>\n",
       "      <td>3734.0701</td>\n",
       "      <td>420.45999</td>\n",
       "      <td>358.870000</td>\n",
       "      <td>351.670010</td>\n",
       "    </tr>\n",
       "    <tr>\n",
       "      <th>1</th>\n",
       "      <td>732424</td>\n",
       "      <td>R80711</td>\n",
       "      <td>2015-12-22 14:30:00</td>\n",
       "      <td>-0.990000</td>\n",
       "      <td>-0.990000</td>\n",
       "      <td>-0.990000</td>\n",
       "      <td>0.0</td>\n",
       "      <td>17.00</td>\n",
       "      <td>17.000000</td>\n",
       "      <td>17.0</td>\n",
       "      <td>...</td>\n",
       "      <td>28.620001</td>\n",
       "      <td>28.500000</td>\n",
       "      <td>28.750000</td>\n",
       "      <td>0.09</td>\n",
       "      <td>3057.7900</td>\n",
       "      <td>1855.3000</td>\n",
       "      <td>3908.2400</td>\n",
       "      <td>379.53000</td>\n",
       "      <td>195.190000</td>\n",
       "      <td>196.710010</td>\n",
       "    </tr>\n",
       "    <tr>\n",
       "      <th>2</th>\n",
       "      <td>312987</td>\n",
       "      <td>R80711</td>\n",
       "      <td>2016-03-20 20:40:00</td>\n",
       "      <td>-0.990000</td>\n",
       "      <td>-0.990000</td>\n",
       "      <td>-0.990000</td>\n",
       "      <td>0.0</td>\n",
       "      <td>12.88</td>\n",
       "      <td>12.000000</td>\n",
       "      <td>13.0</td>\n",
       "      <td>...</td>\n",
       "      <td>22.290001</td>\n",
       "      <td>22.200001</td>\n",
       "      <td>22.299999</td>\n",
       "      <td>0.02</td>\n",
       "      <td>1709.0400</td>\n",
       "      <td>1140.3800</td>\n",
       "      <td>2537.3301</td>\n",
       "      <td>259.03000</td>\n",
       "      <td>44.849998</td>\n",
       "      <td>44.849998</td>\n",
       "    </tr>\n",
       "    <tr>\n",
       "      <th>3</th>\n",
       "      <td>68152</td>\n",
       "      <td>R80711</td>\n",
       "      <td>2016-01-09 01:00:00</td>\n",
       "      <td>45.000000</td>\n",
       "      <td>45.000000</td>\n",
       "      <td>45.000000</td>\n",
       "      <td>0.0</td>\n",
       "      <td>12.95</td>\n",
       "      <td>12.000000</td>\n",
       "      <td>13.0</td>\n",
       "      <td>...</td>\n",
       "      <td>18.530001</td>\n",
       "      <td>18.500000</td>\n",
       "      <td>18.600000</td>\n",
       "      <td>0.04</td>\n",
       "      <td>0.0000</td>\n",
       "      <td>0.0000</td>\n",
       "      <td>0.0000</td>\n",
       "      <td>0.00000</td>\n",
       "      <td>243.020000</td>\n",
       "      <td>243.020000</td>\n",
       "    </tr>\n",
       "    <tr>\n",
       "      <th>4</th>\n",
       "      <td>231878</td>\n",
       "      <td>R80721</td>\n",
       "      <td>2014-12-14 13:20:00</td>\n",
       "      <td>44.990002</td>\n",
       "      <td>44.990002</td>\n",
       "      <td>44.990002</td>\n",
       "      <td>0.0</td>\n",
       "      <td>16.99</td>\n",
       "      <td>16.110001</td>\n",
       "      <td>17.0</td>\n",
       "      <td>...</td>\n",
       "      <td>18.420000</td>\n",
       "      <td>18.400000</td>\n",
       "      <td>18.500000</td>\n",
       "      <td>0.03</td>\n",
       "      <td>0.0000</td>\n",
       "      <td>0.0000</td>\n",
       "      <td>0.0000</td>\n",
       "      <td>0.00000</td>\n",
       "      <td>195.060000</td>\n",
       "      <td>308.239990</td>\n",
       "    </tr>\n",
       "  </tbody>\n",
       "</table>\n",
       "<p>5 rows × 121 columns</p>\n",
       "</div>"
      ],
      "text/plain": [
       "   Unnamed: 0 Wind_turbine_name           Date_time     Ba_avg     Ba_min  \\\n",
       "0      804808            R80711 2013-04-06 14:20:00  -0.940000  -0.950000   \n",
       "1      732424            R80711 2015-12-22 14:30:00  -0.990000  -0.990000   \n",
       "2      312987            R80711 2016-03-20 20:40:00  -0.990000  -0.990000   \n",
       "3       68152            R80711 2016-01-09 01:00:00  45.000000  45.000000   \n",
       "4      231878            R80721 2014-12-14 13:20:00  44.990002  44.990002   \n",
       "\n",
       "      Ba_max  Ba_std  Rt_avg     Rt_min  Rt_max     ...        Rbt_avg  \\\n",
       "0  -0.940000     0.0   10.59  10.000000    11.0     ...      25.129999   \n",
       "1  -0.990000     0.0   17.00  17.000000    17.0     ...      28.620001   \n",
       "2  -0.990000     0.0   12.88  12.000000    13.0     ...      22.290001   \n",
       "3  45.000000     0.0   12.95  12.000000    13.0     ...      18.530001   \n",
       "4  44.990002     0.0   16.99  16.110001    17.0     ...      18.420000   \n",
       "\n",
       "     Rbt_min    Rbt_max  Rbt_std     Rm_avg     Rm_min     Rm_max     Rm_std  \\\n",
       "0  25.100000  25.299999     0.07  2921.1001  2102.1599  3734.0701  420.45999   \n",
       "1  28.500000  28.750000     0.09  3057.7900  1855.3000  3908.2400  379.53000   \n",
       "2  22.200001  22.299999     0.02  1709.0400  1140.3800  2537.3301  259.03000   \n",
       "3  18.500000  18.600000     0.04     0.0000     0.0000     0.0000    0.00000   \n",
       "4  18.400000  18.500000     0.03     0.0000     0.0000     0.0000    0.00000   \n",
       "\n",
       "     Wa_c_avg    Na_c_avg  \n",
       "0  358.870000  351.670010  \n",
       "1  195.190000  196.710010  \n",
       "2   44.849998   44.849998  \n",
       "3  243.020000  243.020000  \n",
       "4  195.060000  308.239990  \n",
       "\n",
       "[5 rows x 121 columns]"
      ]
     },
     "execution_count": 82,
     "metadata": {},
     "output_type": "execute_result"
    }
   ],
   "source": [
    "data.head()"
   ]
  },
  {
   "cell_type": "code",
   "execution_count": 83,
   "metadata": {},
   "outputs": [
    {
     "data": {
      "text/plain": [
       "(25000, 121)"
      ]
     },
     "execution_count": 83,
     "metadata": {},
     "output_type": "execute_result"
    }
   ],
   "source": [
    "data.shape"
   ]
  },
  {
   "cell_type": "markdown",
   "metadata": {},
   "source": [
    "data shape has changed from previous (25000, 135) to (25000, 121)"
   ]
  },
  {
   "cell_type": "markdown",
   "metadata": {},
   "source": [
    "### Split dataset into predictor and target matrices"
   ]
  },
  {
   "cell_type": "code",
   "execution_count": 84,
   "metadata": {},
   "outputs": [],
   "source": [
    "# Values of attributes\n",
    "\n",
    "dataset = data.drop(['Date_time','Wind_turbine_name','P_avg', 'P_min', 'P_max', 'P_std'], axis=1)\n",
    "X = dataset.values\n",
    "\n",
    "# Values of target\n",
    "\n",
    "y = data['P_avg'].values"
   ]
  },
  {
   "cell_type": "code",
   "execution_count": 85,
   "metadata": {},
   "outputs": [],
   "source": [
    "# Splitting data\n",
    "\n",
    "X_train, X_test, y_train, y_test = train_test_split(X, y, test_size=0.3, random_state=0)"
   ]
  },
  {
   "cell_type": "code",
   "execution_count": 86,
   "metadata": {},
   "outputs": [],
   "source": [
    "number_features = len(dataset.columns)"
   ]
  },
  {
   "cell_type": "markdown",
   "metadata": {},
   "source": [
    "### Dimension Reduction with PCA"
   ]
  },
  {
   "cell_type": "markdown",
   "metadata": {},
   "source": [
    "The dataset we have it quite huge. We need to select features to use for our analysis of the active power. To discover the principal features, we can principal component analysis. First split the data into predictor and target variables. PCA allows you to reduce the number of you predictors, and to decorrelate them especially for features that have a direct relationship like apparent power, reactive power and active power."
   ]
  },
  {
   "cell_type": "code",
   "execution_count": 87,
   "metadata": {},
   "outputs": [
    {
     "data": {
      "text/plain": [
       "PCA(copy=True, iterated_power='auto', n_components=115, random_state=None,\n",
       "  svd_solver='auto', tol=0.0, whiten=False)"
      ]
     },
     "execution_count": 87,
     "metadata": {},
     "output_type": "execute_result"
    }
   ],
   "source": [
    "pca=PCA(n_components=number_features)                                    \n",
    "\n",
    "pca.fit(X) "
   ]
  },
  {
   "cell_type": "code",
   "execution_count": 88,
   "metadata": {},
   "outputs": [
    {
     "data": {
      "text/plain": [
       "array([[-9.99999671e-01, -5.49280189e-06, -5.41721495e-06, ...,\n",
       "         3.69267531e-05,  4.48804453e-06,  3.02889184e-06],\n",
       "       [ 8.00319369e-04, -2.44164872e-03, -2.37805920e-03, ...,\n",
       "         6.98423319e-02,  5.14542520e-04,  3.37331701e-04],\n",
       "       [-1.00294893e-04,  6.69508116e-03,  6.00714597e-03, ...,\n",
       "         2.13685550e-01,  6.53203692e-03,  6.69161861e-03],\n",
       "       ...,\n",
       "       [-3.38220771e-10, -4.02402649e-04,  1.04188371e-04, ...,\n",
       "        -2.08335754e-05, -2.52822432e-06,  2.94084601e-06],\n",
       "       [-3.27141061e-10,  5.54767410e-05, -1.47938019e-04, ...,\n",
       "        -1.35127511e-05, -9.31176794e-07, -3.27974198e-07],\n",
       "       [-9.34042409e-11,  2.70912873e-05, -3.10461076e-05, ...,\n",
       "         4.52823991e-06,  3.56956473e-06, -1.50071465e-06]])"
      ]
     },
     "execution_count": 88,
     "metadata": {},
     "output_type": "execute_result"
    }
   ],
   "source": [
    "PCA(copy=True, n_components=None, whiten=False)\n",
    "pca.components_"
   ]
  },
  {
   "cell_type": "code",
   "execution_count": null,
   "metadata": {},
   "outputs": [],
   "source": []
  },
  {
   "cell_type": "markdown",
   "metadata": {},
   "source": [
    "### Plot the variance"
   ]
  },
  {
   "cell_type": "code",
   "execution_count": 89,
   "metadata": {},
   "outputs": [
    {
     "data": {
      "text/plain": [
       "array([9.99352338e-01, 6.01679325e-04, 2.21244236e-05, 1.32383126e-05,\n",
       "       5.26468616e-06, 2.57377173e-06, 8.81644430e-07, 7.87497832e-07,\n",
       "       2.39553096e-07, 1.66169347e-07, 1.38407122e-07, 1.12009219e-07,\n",
       "       1.08881475e-07, 6.27412830e-08, 6.04159320e-08, 3.58443814e-08,\n",
       "       3.06317207e-08, 2.55267848e-08, 1.96253045e-08, 1.76897653e-08,\n",
       "       1.71231515e-08, 1.60561063e-08, 9.68891503e-09, 7.15425368e-09,\n",
       "       7.00960262e-09, 6.74456072e-09, 5.56250986e-09, 4.90982534e-09,\n",
       "       3.25010224e-09, 3.01723624e-09, 2.54346423e-09, 2.16169105e-09,\n",
       "       1.89322523e-09, 1.26239931e-09, 1.20575528e-09, 1.16616603e-09,\n",
       "       6.59694158e-10, 4.82906121e-10, 3.94495684e-10, 3.42015145e-10,\n",
       "       2.62630787e-10, 2.60556089e-10, 2.12034399e-10, 1.89205109e-10,\n",
       "       1.68010999e-10, 1.65028872e-10, 1.48099600e-10, 1.40405454e-10,\n",
       "       1.19483355e-10, 9.76712713e-11, 7.00163896e-11, 4.56767587e-11,\n",
       "       3.92391658e-11, 3.60501782e-11, 3.18589194e-11, 2.95726361e-11,\n",
       "       2.87499154e-11, 2.54561879e-11, 2.02097794e-11, 1.63807853e-11,\n",
       "       8.82356267e-12, 6.72087078e-12, 5.01460155e-12, 4.24446644e-12,\n",
       "       4.07706027e-12, 3.39606905e-12, 3.18065950e-12, 2.79751917e-12,\n",
       "       2.44490149e-12, 2.39942955e-12, 2.35769289e-12, 1.52963022e-12,\n",
       "       1.44150127e-12, 1.32147297e-12, 1.24849781e-12, 1.17322187e-12,\n",
       "       7.93896392e-13, 7.46941218e-13, 6.56262794e-13, 5.77917792e-13,\n",
       "       5.19923689e-13, 5.09643626e-13, 3.48986134e-13, 2.79062406e-13,\n",
       "       2.05755186e-13, 1.82203790e-13, 1.40514785e-13, 1.34570622e-13,\n",
       "       1.21686215e-13, 1.16638934e-13, 1.05525435e-13, 9.21046103e-14,\n",
       "       9.11094509e-14, 8.69067699e-14, 8.48955139e-14, 5.40042612e-14,\n",
       "       5.15177333e-14, 4.37900331e-14, 3.66339711e-14, 2.95679657e-14,\n",
       "       2.88512160e-14, 2.28538664e-14, 2.12935820e-14, 1.88965261e-14,\n",
       "       1.78420182e-14, 1.24589796e-14, 8.36957735e-15, 7.11373870e-15,\n",
       "       5.47435507e-15, 4.57477617e-15, 4.08723840e-15, 2.68075115e-15,\n",
       "       1.03761688e-15, 6.05574140e-16, 3.64854911e-16])"
      ]
     },
     "execution_count": 89,
     "metadata": {},
     "output_type": "execute_result"
    }
   ],
   "source": [
    "pca.explained_variance_ratio_"
   ]
  },
  {
   "cell_type": "code",
   "execution_count": 90,
   "metadata": {},
   "outputs": [
    {
     "data": {
      "text/plain": [
       "array([5.87903459e+10, 3.53958602e+07, 1.30154548e+06, 7.78789371e+05,\n",
       "       3.09713310e+05, 1.51410993e+05, 5.18657725e+04, 4.63272743e+04,\n",
       "       1.40925366e+04, 9.77548458e+03, 8.14227603e+03, 6.58932836e+03,\n",
       "       6.40532805e+03, 3.69097223e+03, 3.55417544e+03, 2.10866929e+03,\n",
       "       1.80201655e+03, 1.50170110e+03, 1.15452619e+03, 1.04066142e+03,\n",
       "       1.00732841e+03, 9.44555795e+02, 5.69983823e+02, 4.20873632e+02,\n",
       "       4.12364035e+02, 3.96772032e+02, 3.27233815e+02, 2.88837399e+02,\n",
       "       1.91198467e+02, 1.77499322e+02, 1.49628050e+02, 1.27168927e+02,\n",
       "       1.11375500e+02, 7.42649909e+01, 7.09327105e+01, 6.86037361e+01,\n",
       "       3.88087827e+01, 2.84086171e+01, 2.32075684e+01, 2.01202198e+01,\n",
       "       1.54501613e+01, 1.53281100e+01, 1.24736544e+01, 1.11306427e+01,\n",
       "       9.88382611e+00, 9.70839224e+00, 8.71246946e+00, 8.25983481e+00,\n",
       "       7.02902022e+00, 5.74584919e+00, 4.11895545e+00, 2.68709277e+00,\n",
       "       2.30837918e+00, 2.12077599e+00, 1.87421074e+00, 1.73971225e+00,\n",
       "       1.69131287e+00, 1.49754799e+00, 1.18890994e+00, 9.63656157e-01,\n",
       "       5.19076487e-01, 3.95378389e-01, 2.95001221e-01, 2.49695368e-01,\n",
       "       2.39847123e-01, 1.99785467e-01, 1.87113258e-01, 1.64573708e-01,\n",
       "       1.43829757e-01, 1.41154714e-01, 1.38699411e-01, 8.99857700e-02,\n",
       "       8.48012808e-02, 7.77402024e-02, 7.34471871e-02, 6.90188206e-02,\n",
       "       4.67036917e-02, 4.39413918e-02, 3.86069209e-02, 3.39980061e-02,\n",
       "       3.05863031e-02, 2.99815429e-02, 2.05303122e-02, 1.64168079e-02,\n",
       "       1.21042580e-02, 1.07187660e-02, 8.26626654e-03, 7.91658070e-03,\n",
       "       7.15861105e-03, 6.86168732e-03, 6.20789746e-03, 5.41837117e-03,\n",
       "       5.35982749e-03, 5.11259030e-03, 4.99427122e-03, 3.17698681e-03,\n",
       "       3.03070823e-03, 2.57609963e-03, 2.15511962e-03, 1.73943750e-03,\n",
       "       1.69727223e-03, 1.34445746e-03, 1.25266835e-03, 1.11165328e-03,\n",
       "       1.04961822e-03, 7.32942420e-04, 4.92369236e-04, 4.18490199e-04,\n",
       "       3.22047806e-04, 2.69126977e-04, 2.40445887e-04, 1.57704427e-04,\n",
       "       6.10413893e-05, 3.56249861e-05, 2.14638477e-05])"
      ]
     },
     "execution_count": 90,
     "metadata": {},
     "output_type": "execute_result"
    }
   ],
   "source": [
    "pca.explained_variance_"
   ]
  },
  {
   "cell_type": "code",
   "execution_count": 91,
   "metadata": {},
   "outputs": [
    {
     "data": {
      "text/plain": [
       "array([ 99.9, 100. , 100. , 100. , 100. , 100. , 100. , 100. , 100. ,\n",
       "       100. , 100. , 100. , 100. , 100. , 100. , 100. , 100. , 100. ,\n",
       "       100. , 100. , 100. , 100. , 100. , 100. , 100. , 100. , 100. ,\n",
       "       100. , 100. , 100. , 100. , 100. , 100. , 100. , 100. , 100. ,\n",
       "       100. , 100. , 100. , 100. , 100. , 100. , 100. , 100. , 100. ,\n",
       "       100. , 100. , 100. , 100. , 100. , 100. , 100. , 100. , 100. ,\n",
       "       100. , 100. , 100. , 100. , 100. , 100. , 100. , 100. , 100. ,\n",
       "       100. , 100. , 100. , 100. , 100. , 100. , 100. , 100. , 100. ,\n",
       "       100. , 100. , 100. , 100. , 100. , 100. , 100. , 100. , 100. ,\n",
       "       100. , 100. , 100. , 100. , 100. , 100. , 100. , 100. , 100. ,\n",
       "       100. , 100. , 100. , 100. , 100. , 100. , 100. , 100. , 100. ,\n",
       "       100. , 100. , 100. , 100. , 100. , 100. , 100. , 100. , 100. ,\n",
       "       100. , 100. , 100. , 100. , 100. , 100. , 100. ])"
      ]
     },
     "execution_count": 91,
     "metadata": {},
     "output_type": "execute_result"
    }
   ],
   "source": [
    "variance = np.cumsum(np.round(pca.explained_variance_ratio_, decimals=3)*100)\n",
    "variance"
   ]
  },
  {
   "cell_type": "code",
   "execution_count": 92,
   "metadata": {},
   "outputs": [
    {
     "data": {
      "text/plain": [
       "[<matplotlib.lines.Line2D at 0x1a32271e48>]"
      ]
     },
     "execution_count": 92,
     "metadata": {},
     "output_type": "execute_result"
    },
    {
     "data": {
      "image/png": "[encoded data removed]",
      "text/plain": [
       "<Figure size 432x288 with 1 Axes>"
      ]
     },
     "metadata": {
      "needs_background": "light"
     },
     "output_type": "display_data"
    }
   ],
   "source": [
    "plt.title('PCA Analysis')\n",
    "plt.ylabel('% Cumulative Variance')\n",
    "plt.xlabel('Principal Componenet')\n",
    "plt.ylim(30,110)\n",
    "plt.style.context('seaborn-whitegrid')\n",
    "\n",
    "\n",
    "plt.plot(variance)"
   ]
  },
  {
   "cell_type": "markdown",
   "metadata": {},
   "source": [
    "### Random Forest with PCA"
   ]
  },
  {
   "cell_type": "markdown",
   "metadata": {},
   "source": [
    "Construct a PCA and Random Forest Regressor pipeline. A pipeline is a term for the processing of data until it reaches a form that is usable for the machine learning algorithm. Now there is an actual pipeline module you'll need to use, that streamlines the process of dimension reduction and application of the machine learning algorithm, in this case the random forest regression model. For now, use the first two principal components to construct the pipeline."
   ]
  },
  {
   "cell_type": "code",
   "execution_count": 51,
   "metadata": {},
   "outputs": [],
   "source": [
    "# create model with 100 decision trees\n",
    "rf = RandomForestRegressor(n_estimators=100, random_state = 42) \n",
    "\n",
    "# fit model with the training data\n",
    "rf.fit(X_train, y_train); "
   ]
  },
  {
   "cell_type": "code",
   "execution_count": 118,
   "metadata": {},
   "outputs": [
    {
     "data": {
      "text/plain": [
       "0.9999919829746312"
      ]
     },
     "execution_count": 118,
     "metadata": {},
     "output_type": "execute_result"
    }
   ],
   "source": [
    "# Score\n",
    "rf.score(X_test, y_test)"
   ]
  },
  {
   "cell_type": "code",
   "execution_count": 119,
   "metadata": {},
   "outputs": [],
   "source": [
    "y_preds = rf.predict(X_test)"
   ]
  },
  {
   "cell_type": "code",
   "execution_count": 121,
   "metadata": {},
   "outputs": [
    {
     "name": "stdout",
     "output_type": "stream",
     "text": [
      "Mean Absolute Error: 0.61 degrees.\n"
     ]
    }
   ],
   "source": [
    "errors = abs(y_preds - y_test)\n",
    "print('Mean Absolute Error:', round(np.mean(errors), 2), 'degrees.')"
   ]
  },
  {
   "cell_type": "code",
   "execution_count": 122,
   "metadata": {},
   "outputs": [
    {
     "name": "stdout",
     "output_type": "stream",
     "text": [
      "Accuracy: 96.21 %.\n"
     ]
    }
   ],
   "source": [
    "mape = []\n",
    "for i in range(len(errors)):\n",
    "    if y_test[i] != 0.0:\n",
    "        mape.append(100*(abs(errors[i]/y_test[i])))\n",
    "accuracy = 100 - np.mean(mape)\n",
    "print('Accuracy:', round(accuracy, 2), '%.') "
   ]
  },
  {
   "cell_type": "markdown",
   "metadata": {},
   "source": [
    "### Plot the principal components"
   ]
  },
  {
   "cell_type": "markdown",
   "metadata": {},
   "source": [
    "Select the first two components and display them. As rule of thumb, the first to components are selected as they are easier to display in a 2-dimensions."
   ]
  },
  {
   "cell_type": "code",
   "execution_count": 123,
   "metadata": {},
   "outputs": [],
   "source": [
    "# \"rule of thumb\"\n",
    "pca = PCA(n_components=2)\n",
    "X_r = pca.fit(X).transform(X)\n",
    "\n",
    "logistic = linear_model.LogisticRegression()\n",
    "pipeline = Pipeline(steps=[('pca', pca), ('logistic', logistic)])"
   ]
  },
  {
   "cell_type": "code",
   "execution_count": 124,
   "metadata": {},
   "outputs": [
    {
     "data": {
      "image/png": "[encoded data removed]",
      "text/plain": [
       "<Figure size 432x288 with 1 Axes>"
      ]
     },
     "metadata": {
      "needs_background": "light"
     },
     "output_type": "display_data"
    }
   ],
   "source": [
    "plt.figure()\n",
    "colors = ['navy', 'turquoise', 'darkorange']\n",
    "lw = 2\n",
    "\n",
    "for color, i, target_name in zip(colors, [0, 1, 2], [0, 1]):\n",
    "    plt.scatter(X_r[y == i, 0], X_r[y == i, 1], color=color, alpha=.8, lw=lw,\n",
    "                label=target_name)\n",
    "plt.legend(loc='best', shadow=False, scatterpoints=1)\n",
    "plt.title('PCA')\n",
    "\n",
    "plt.show()"
   ]
  },
  {
   "cell_type": "markdown",
   "metadata": {},
   "source": [
    "### Split dataset in training and test sets"
   ]
  },
  {
   "cell_type": "markdown",
   "metadata": {},
   "source": [
    "Split the data into training and test sets and use the pipeline to fit and test the model."
   ]
  },
  {
   "cell_type": "code",
   "execution_count": 135,
   "metadata": {},
   "outputs": [],
   "source": [
    "X_train, X_test, y_train, y_test = train_test_split(X, y, test_size=0.3, random_state=0)"
   ]
  },
  {
   "cell_type": "code",
   "execution_count": 137,
   "metadata": {},
   "outputs": [
    {
     "name": "stderr",
     "output_type": "stream",
     "text": [
      "/Users/seuntoyobo/anaconda3/lib/python3.7/site-packages/sklearn/linear_model/logistic.py:433: FutureWarning: Default solver will be changed to 'lbfgs' in 0.22. Specify a solver to silence this warning.\n",
      "  FutureWarning)\n"
     ]
    },
    {
     "ename": "ValueError",
     "evalue": "Unknown label type: 'continuous'",
     "output_type": "error",
     "traceback": [
      "\u001b[0;31m---------------------------------------------------------------------------\u001b[0m",
      "\u001b[0;31mValueError\u001b[0m                                Traceback (most recent call last)",
      "\u001b[0;32m<ipython-input-137-58e3b7912133>\u001b[0m in \u001b[0;36m<module>\u001b[0;34m\u001b[0m\n\u001b[0;32m----> 1\u001b[0;31m \u001b[0mpipeline\u001b[0m\u001b[0;34m.\u001b[0m\u001b[0mfit\u001b[0m\u001b[0;34m(\u001b[0m\u001b[0mX_train\u001b[0m\u001b[0;34m,\u001b[0m \u001b[0my_train\u001b[0m\u001b[0;34m)\u001b[0m\u001b[0;34m\u001b[0m\u001b[0;34m\u001b[0m\u001b[0m\n\u001b[0m",
      "\u001b[0;32m~/anaconda3/lib/python3.7/site-packages/sklearn/pipeline.py\u001b[0m in \u001b[0;36mfit\u001b[0;34m(self, X, y, **fit_params)\u001b[0m\n\u001b[1;32m    265\u001b[0m         \u001b[0mXt\u001b[0m\u001b[0;34m,\u001b[0m \u001b[0mfit_params\u001b[0m \u001b[0;34m=\u001b[0m \u001b[0mself\u001b[0m\u001b[0;34m.\u001b[0m\u001b[0m_fit\u001b[0m\u001b[0;34m(\u001b[0m\u001b[0mX\u001b[0m\u001b[0;34m,\u001b[0m \u001b[0my\u001b[0m\u001b[0;34m,\u001b[0m \u001b[0;34m**\u001b[0m\u001b[0mfit_params\u001b[0m\u001b[0;34m)\u001b[0m\u001b[0;34m\u001b[0m\u001b[0;34m\u001b[0m\u001b[0m\n\u001b[1;32m    266\u001b[0m         \u001b[0;32mif\u001b[0m \u001b[0mself\u001b[0m\u001b[0;34m.\u001b[0m\u001b[0m_final_estimator\u001b[0m \u001b[0;32mis\u001b[0m \u001b[0;32mnot\u001b[0m \u001b[0;32mNone\u001b[0m\u001b[0;34m:\u001b[0m\u001b[0;34m\u001b[0m\u001b[0;34m\u001b[0m\u001b[0m\n\u001b[0;32m--> 267\u001b[0;31m             \u001b[0mself\u001b[0m\u001b[0;34m.\u001b[0m\u001b[0m_final_estimator\u001b[0m\u001b[0;34m.\u001b[0m\u001b[0mfit\u001b[0m\u001b[0;34m(\u001b[0m\u001b[0mXt\u001b[0m\u001b[0;34m,\u001b[0m \u001b[0my\u001b[0m\u001b[0;34m,\u001b[0m \u001b[0;34m**\u001b[0m\u001b[0mfit_params\u001b[0m\u001b[0;34m)\u001b[0m\u001b[0;34m\u001b[0m\u001b[0;34m\u001b[0m\u001b[0m\n\u001b[0m\u001b[1;32m    268\u001b[0m         \u001b[0;32mreturn\u001b[0m \u001b[0mself\u001b[0m\u001b[0;34m\u001b[0m\u001b[0;34m\u001b[0m\u001b[0m\n\u001b[1;32m    269\u001b[0m \u001b[0;34m\u001b[0m\u001b[0m\n",
      "\u001b[0;32m~/anaconda3/lib/python3.7/site-packages/sklearn/linear_model/logistic.py\u001b[0m in \u001b[0;36mfit\u001b[0;34m(self, X, y, sample_weight)\u001b[0m\n\u001b[1;32m   1284\u001b[0m         X, y = check_X_y(X, y, accept_sparse='csr', dtype=_dtype, order=\"C\",\n\u001b[1;32m   1285\u001b[0m                          accept_large_sparse=solver != 'liblinear')\n\u001b[0;32m-> 1286\u001b[0;31m         \u001b[0mcheck_classification_targets\u001b[0m\u001b[0;34m(\u001b[0m\u001b[0my\u001b[0m\u001b[0;34m)\u001b[0m\u001b[0;34m\u001b[0m\u001b[0;34m\u001b[0m\u001b[0m\n\u001b[0m\u001b[1;32m   1287\u001b[0m         \u001b[0mself\u001b[0m\u001b[0;34m.\u001b[0m\u001b[0mclasses_\u001b[0m \u001b[0;34m=\u001b[0m \u001b[0mnp\u001b[0m\u001b[0;34m.\u001b[0m\u001b[0munique\u001b[0m\u001b[0;34m(\u001b[0m\u001b[0my\u001b[0m\u001b[0;34m)\u001b[0m\u001b[0;34m\u001b[0m\u001b[0;34m\u001b[0m\u001b[0m\n\u001b[1;32m   1288\u001b[0m         \u001b[0mn_samples\u001b[0m\u001b[0;34m,\u001b[0m \u001b[0mn_features\u001b[0m \u001b[0;34m=\u001b[0m \u001b[0mX\u001b[0m\u001b[0;34m.\u001b[0m\u001b[0mshape\u001b[0m\u001b[0;34m\u001b[0m\u001b[0;34m\u001b[0m\u001b[0m\n",
      "\u001b[0;32m~/anaconda3/lib/python3.7/site-packages/sklearn/utils/multiclass.py\u001b[0m in \u001b[0;36mcheck_classification_targets\u001b[0;34m(y)\u001b[0m\n\u001b[1;32m    169\u001b[0m     if y_type not in ['binary', 'multiclass', 'multiclass-multioutput',\n\u001b[1;32m    170\u001b[0m                       'multilabel-indicator', 'multilabel-sequences']:\n\u001b[0;32m--> 171\u001b[0;31m         \u001b[0;32mraise\u001b[0m \u001b[0mValueError\u001b[0m\u001b[0;34m(\u001b[0m\u001b[0;34m\"Unknown label type: %r\"\u001b[0m \u001b[0;34m%\u001b[0m \u001b[0my_type\u001b[0m\u001b[0;34m)\u001b[0m\u001b[0;34m\u001b[0m\u001b[0;34m\u001b[0m\u001b[0m\n\u001b[0m\u001b[1;32m    172\u001b[0m \u001b[0;34m\u001b[0m\u001b[0m\n\u001b[1;32m    173\u001b[0m \u001b[0;34m\u001b[0m\u001b[0m\n",
      "\u001b[0;31mValueError\u001b[0m: Unknown label type: 'continuous'"
     ]
    }
   ],
   "source": [
    "pipeline.fit(X_train, y_train)"
   ]
  },
  {
   "cell_type": "code",
   "execution_count": null,
   "metadata": {},
   "outputs": [],
   "source": []
  },
  {
   "cell_type": "code",
   "execution_count": null,
   "metadata": {},
   "outputs": [],
   "source": []
  },
  {
   "cell_type": "markdown",
   "metadata": {},
   "source": [
    "### Evaluate the results"
   ]
  },
  {
   "cell_type": "markdown",
   "metadata": {},
   "source": [
    "Using the `sklearn.metrics` moduel determine the accuracy score, i.e., the coefficient of determination $R^2$ of the prediction."
   ]
  },
  {
   "cell_type": "code",
   "execution_count": 115,
   "metadata": {},
   "outputs": [],
   "source": [
    "from sklearn.metrics import r2_score"
   ]
  },
  {
   "cell_type": "code",
   "execution_count": 129,
   "metadata": {},
   "outputs": [],
   "source": [
    "score = r2_score(y_test, y_preds)"
   ]
  },
  {
   "cell_type": "code",
   "execution_count": 130,
   "metadata": {},
   "outputs": [
    {
     "data": {
      "text/plain": [
       "0.9999919829746312"
      ]
     },
     "execution_count": 130,
     "metadata": {},
     "output_type": "execute_result"
    }
   ],
   "source": [
    "score"
   ]
  },
  {
   "cell_type": "markdown",
   "metadata": {},
   "source": [
    "### References"
   ]
  },
  {
   "cell_type": "markdown",
   "metadata": {},
   "source": [
    "Referred to for determination of input features to predict power output: [Forecasting Wind Power](https://lucdemortier.github.io/articles/17/WindPower).\n",
    "\n",
    "[Selecting good features – Part IV: stability selection, RFE and everything side by side](http://blog.datadive.net/selecting-good-features-part-iv-stability-selection-rfe-and-everything-side-by-side/)"
   ]
  },
  {
   "cell_type": "code",
   "execution_count": null,
   "metadata": {},
   "outputs": [],
   "source": []
  }
 ],
 "metadata": {
  "kernelspec": {
   "display_name": "Python 3",
   "language": "python",
   "name": "python3"
  },
  "language_info": {
   "codemirror_mode": {
    "name": "ipython",
    "version": 3
   },
   "file_extension": ".py",
   "mimetype": "text/x-python",
   "name": "python",
   "nbconvert_exporter": "python",
   "pygments_lexer": "ipython3",
   "version": "3.7.1"
  }
 },
 "nbformat": 4,
 "nbformat_minor": 2
}
